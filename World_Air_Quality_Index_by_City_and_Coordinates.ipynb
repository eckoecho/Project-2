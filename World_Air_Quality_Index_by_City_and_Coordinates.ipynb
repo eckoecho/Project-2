{
  "nbformat": 4,
  "nbformat_minor": 0,
  "metadata": {
    "colab": {
      "provenance": [],
      "toc_visible": true,
      "mount_file_id": "https://github.com/eckoecho/Project-2/blob/main/World_Air_Quality_Index_by_City_and_Coordinates.ipynb",
      "authorship_tag": "ABX9TyNUhLE8hd5qF9KeIO4YfH5n",
      "include_colab_link": true
    },
    "kernelspec": {
      "name": "python3",
      "display_name": "Python 3"
    },
    "language_info": {
      "name": "python"
    }
  },
  "cells": [
    {
      "cell_type": "markdown",
      "metadata": {
        "id": "view-in-github",
        "colab_type": "text"
      },
      "source": [
        "<a href=\"https://colab.research.google.com/github/eckoecho/Project-2/blob/main/World_Air_Quality_Index_by_City_and_Coordinates.ipynb\" target=\"_parent\"><img src=\"https://colab.research.google.com/assets/colab-badge.svg\" alt=\"Open In Colab\"/></a>"
      ]
    },
    {
      "cell_type": "markdown",
      "source": [
        "This data comes from [Kaggle, World Air Quality Index (AQI)](https://www.kaggle.com/datasets/adityaramachandran27/world-air-quality-index-by-city-and-coordinates).\n",
        "\n",
        "The goal of this dataset is to provide valuable insights into the air quality of different regions, allowing researchers and policymakers to make informed decisions on how to address the issue of air pollution.\n",
        "\n",
        "\n",
        "The target of our dataset is the `AQI Category` column. In this target I will determine if a country/city is a good choice to live based on the values of `Good`, `Moderate`, `Unhealthy for Sensitive Groups`, `Unhealthy`, and `Very Unhealthy`.\n",
        "\n",
        "Each row represents a city within the world.\n",
        "\n",
        "Our target is a categorical, deserving of a classification model for analysis.\n",
        "\n",
        "There are 16695 rows, and 14 columns (13 features) in our dataset.\n",
        "\n",
        "There are some challenges to learning this dataset including uncovering industry jargon and plotting geographical areas."
      ],
      "metadata": {
        "id": "Fze_um-SWZsJ"
      }
    },
    {
      "cell_type": "code",
      "source": [
        "import pandas as pd\n",
        "import seaborn as sns\n",
        "import matplotlib.pyplot as plt"
      ],
      "metadata": {
        "id": "xPWgrFwYfH3r"
      },
      "execution_count": 3,
      "outputs": []
    },
    {
      "cell_type": "code",
      "execution_count": 4,
      "metadata": {
        "colab": {
          "base_uri": "https://localhost:8080/",
          "height": 281
        },
        "id": "Jn9k1-C_Vj4R",
        "outputId": "62001b4b-55b9-4c87-909b-213286782451"
      },
      "outputs": [
        {
          "output_type": "execute_result",
          "data": {
            "text/plain": [
              "              Country              City  AQI Value AQI Category  CO AQI Value  \\\n",
              "0  Russian Federation        Praskoveya         51     Moderate             1   \n",
              "1              Brazil  Presidente Dutra         41         Good             1   \n",
              "2              Brazil  Presidente Dutra         41         Good             1   \n",
              "3               Italy   Priolo Gargallo         66     Moderate             1   \n",
              "4              Poland         Przasnysz         34         Good             1   \n",
              "\n",
              "  CO AQI Category  Ozone AQI Value Ozone AQI Category  NO2 AQI Value  \\\n",
              "0            Good               36               Good              0   \n",
              "1            Good                5               Good              1   \n",
              "2            Good                5               Good              1   \n",
              "3            Good               39               Good              2   \n",
              "4            Good               34               Good              0   \n",
              "\n",
              "  NO2 AQI Category  PM2.5 AQI Value PM2.5 AQI Category      lat      lng  \n",
              "0             Good               51           Moderate  44.7444  44.2031  \n",
              "1             Good               41               Good  -5.2900 -44.4900  \n",
              "2             Good               41               Good -11.2958 -41.9869  \n",
              "3             Good               66           Moderate  37.1667  15.1833  \n",
              "4             Good               20               Good  53.0167  20.8833  "
            ],
            "text/html": [
              "\n",
              "  <div id=\"df-97f2539a-fbd5-46df-bfe1-90b8643706d5\">\n",
              "    <div class=\"colab-df-container\">\n",
              "      <div>\n",
              "<style scoped>\n",
              "    .dataframe tbody tr th:only-of-type {\n",
              "        vertical-align: middle;\n",
              "    }\n",
              "\n",
              "    .dataframe tbody tr th {\n",
              "        vertical-align: top;\n",
              "    }\n",
              "\n",
              "    .dataframe thead th {\n",
              "        text-align: right;\n",
              "    }\n",
              "</style>\n",
              "<table border=\"1\" class=\"dataframe\">\n",
              "  <thead>\n",
              "    <tr style=\"text-align: right;\">\n",
              "      <th></th>\n",
              "      <th>Country</th>\n",
              "      <th>City</th>\n",
              "      <th>AQI Value</th>\n",
              "      <th>AQI Category</th>\n",
              "      <th>CO AQI Value</th>\n",
              "      <th>CO AQI Category</th>\n",
              "      <th>Ozone AQI Value</th>\n",
              "      <th>Ozone AQI Category</th>\n",
              "      <th>NO2 AQI Value</th>\n",
              "      <th>NO2 AQI Category</th>\n",
              "      <th>PM2.5 AQI Value</th>\n",
              "      <th>PM2.5 AQI Category</th>\n",
              "      <th>lat</th>\n",
              "      <th>lng</th>\n",
              "    </tr>\n",
              "  </thead>\n",
              "  <tbody>\n",
              "    <tr>\n",
              "      <th>0</th>\n",
              "      <td>Russian Federation</td>\n",
              "      <td>Praskoveya</td>\n",
              "      <td>51</td>\n",
              "      <td>Moderate</td>\n",
              "      <td>1</td>\n",
              "      <td>Good</td>\n",
              "      <td>36</td>\n",
              "      <td>Good</td>\n",
              "      <td>0</td>\n",
              "      <td>Good</td>\n",
              "      <td>51</td>\n",
              "      <td>Moderate</td>\n",
              "      <td>44.7444</td>\n",
              "      <td>44.2031</td>\n",
              "    </tr>\n",
              "    <tr>\n",
              "      <th>1</th>\n",
              "      <td>Brazil</td>\n",
              "      <td>Presidente Dutra</td>\n",
              "      <td>41</td>\n",
              "      <td>Good</td>\n",
              "      <td>1</td>\n",
              "      <td>Good</td>\n",
              "      <td>5</td>\n",
              "      <td>Good</td>\n",
              "      <td>1</td>\n",
              "      <td>Good</td>\n",
              "      <td>41</td>\n",
              "      <td>Good</td>\n",
              "      <td>-5.2900</td>\n",
              "      <td>-44.4900</td>\n",
              "    </tr>\n",
              "    <tr>\n",
              "      <th>2</th>\n",
              "      <td>Brazil</td>\n",
              "      <td>Presidente Dutra</td>\n",
              "      <td>41</td>\n",
              "      <td>Good</td>\n",
              "      <td>1</td>\n",
              "      <td>Good</td>\n",
              "      <td>5</td>\n",
              "      <td>Good</td>\n",
              "      <td>1</td>\n",
              "      <td>Good</td>\n",
              "      <td>41</td>\n",
              "      <td>Good</td>\n",
              "      <td>-11.2958</td>\n",
              "      <td>-41.9869</td>\n",
              "    </tr>\n",
              "    <tr>\n",
              "      <th>3</th>\n",
              "      <td>Italy</td>\n",
              "      <td>Priolo Gargallo</td>\n",
              "      <td>66</td>\n",
              "      <td>Moderate</td>\n",
              "      <td>1</td>\n",
              "      <td>Good</td>\n",
              "      <td>39</td>\n",
              "      <td>Good</td>\n",
              "      <td>2</td>\n",
              "      <td>Good</td>\n",
              "      <td>66</td>\n",
              "      <td>Moderate</td>\n",
              "      <td>37.1667</td>\n",
              "      <td>15.1833</td>\n",
              "    </tr>\n",
              "    <tr>\n",
              "      <th>4</th>\n",
              "      <td>Poland</td>\n",
              "      <td>Przasnysz</td>\n",
              "      <td>34</td>\n",
              "      <td>Good</td>\n",
              "      <td>1</td>\n",
              "      <td>Good</td>\n",
              "      <td>34</td>\n",
              "      <td>Good</td>\n",
              "      <td>0</td>\n",
              "      <td>Good</td>\n",
              "      <td>20</td>\n",
              "      <td>Good</td>\n",
              "      <td>53.0167</td>\n",
              "      <td>20.8833</td>\n",
              "    </tr>\n",
              "  </tbody>\n",
              "</table>\n",
              "</div>\n",
              "      <button class=\"colab-df-convert\" onclick=\"convertToInteractive('df-97f2539a-fbd5-46df-bfe1-90b8643706d5')\"\n",
              "              title=\"Convert this dataframe to an interactive table.\"\n",
              "              style=\"display:none;\">\n",
              "        \n",
              "  <svg xmlns=\"http://www.w3.org/2000/svg\" height=\"24px\"viewBox=\"0 0 24 24\"\n",
              "       width=\"24px\">\n",
              "    <path d=\"M0 0h24v24H0V0z\" fill=\"none\"/>\n",
              "    <path d=\"M18.56 5.44l.94 2.06.94-2.06 2.06-.94-2.06-.94-.94-2.06-.94 2.06-2.06.94zm-11 1L8.5 8.5l.94-2.06 2.06-.94-2.06-.94L8.5 2.5l-.94 2.06-2.06.94zm10 10l.94 2.06.94-2.06 2.06-.94-2.06-.94-.94-2.06-.94 2.06-2.06.94z\"/><path d=\"M17.41 7.96l-1.37-1.37c-.4-.4-.92-.59-1.43-.59-.52 0-1.04.2-1.43.59L10.3 9.45l-7.72 7.72c-.78.78-.78 2.05 0 2.83L4 21.41c.39.39.9.59 1.41.59.51 0 1.02-.2 1.41-.59l7.78-7.78 2.81-2.81c.8-.78.8-2.07 0-2.86zM5.41 20L4 18.59l7.72-7.72 1.47 1.35L5.41 20z\"/>\n",
              "  </svg>\n",
              "      </button>\n",
              "      \n",
              "  <style>\n",
              "    .colab-df-container {\n",
              "      display:flex;\n",
              "      flex-wrap:wrap;\n",
              "      gap: 12px;\n",
              "    }\n",
              "\n",
              "    .colab-df-convert {\n",
              "      background-color: #E8F0FE;\n",
              "      border: none;\n",
              "      border-radius: 50%;\n",
              "      cursor: pointer;\n",
              "      display: none;\n",
              "      fill: #1967D2;\n",
              "      height: 32px;\n",
              "      padding: 0 0 0 0;\n",
              "      width: 32px;\n",
              "    }\n",
              "\n",
              "    .colab-df-convert:hover {\n",
              "      background-color: #E2EBFA;\n",
              "      box-shadow: 0px 1px 2px rgba(60, 64, 67, 0.3), 0px 1px 3px 1px rgba(60, 64, 67, 0.15);\n",
              "      fill: #174EA6;\n",
              "    }\n",
              "\n",
              "    [theme=dark] .colab-df-convert {\n",
              "      background-color: #3B4455;\n",
              "      fill: #D2E3FC;\n",
              "    }\n",
              "\n",
              "    [theme=dark] .colab-df-convert:hover {\n",
              "      background-color: #434B5C;\n",
              "      box-shadow: 0px 1px 3px 1px rgba(0, 0, 0, 0.15);\n",
              "      filter: drop-shadow(0px 1px 2px rgba(0, 0, 0, 0.3));\n",
              "      fill: #FFFFFF;\n",
              "    }\n",
              "  </style>\n",
              "\n",
              "      <script>\n",
              "        const buttonEl =\n",
              "          document.querySelector('#df-97f2539a-fbd5-46df-bfe1-90b8643706d5 button.colab-df-convert');\n",
              "        buttonEl.style.display =\n",
              "          google.colab.kernel.accessAllowed ? 'block' : 'none';\n",
              "\n",
              "        async function convertToInteractive(key) {\n",
              "          const element = document.querySelector('#df-97f2539a-fbd5-46df-bfe1-90b8643706d5');\n",
              "          const dataTable =\n",
              "            await google.colab.kernel.invokeFunction('convertToInteractive',\n",
              "                                                     [key], {});\n",
              "          if (!dataTable) return;\n",
              "\n",
              "          const docLinkHtml = 'Like what you see? Visit the ' +\n",
              "            '<a target=\"_blank\" href=https://colab.research.google.com/notebooks/data_table.ipynb>data table notebook</a>'\n",
              "            + ' to learn more about interactive tables.';\n",
              "          element.innerHTML = '';\n",
              "          dataTable['output_type'] = 'display_data';\n",
              "          await google.colab.output.renderOutput(dataTable, element);\n",
              "          const docLink = document.createElement('div');\n",
              "          docLink.innerHTML = docLinkHtml;\n",
              "          element.appendChild(docLink);\n",
              "        }\n",
              "      </script>\n",
              "    </div>\n",
              "  </div>\n",
              "  "
            ]
          },
          "metadata": {},
          "execution_count": 4
        }
      ],
      "source": [
        "fpath=\"/content/drive/MyDrive/CodingDojo/02-MachineLearning/Week07/Data/AQI and Lat Long of Countries.csv\"\n",
        "df = pd.read_csv(fpath)\n",
        "df.head()"
      ]
    },
    {
      "cell_type": "code",
      "source": [
        "#indicating rows and columms\n",
        "df.shape\n",
        "print(f\"There are {df.shape[0]} rows, and {df.shape[1]} columns in our dataset.\")"
      ],
      "metadata": {
        "colab": {
          "base_uri": "https://localhost:8080/"
        },
        "id": "oN3AF1t8fOQx",
        "outputId": "cd36f13c-19a9-44e6-c0e8-7f8304af8f43"
      },
      "execution_count": 5,
      "outputs": [
        {
          "output_type": "stream",
          "name": "stdout",
          "text": [
            "There are 16695 rows, and 14 columns in our dataset.\n"
          ]
        }
      ]
    },
    {
      "cell_type": "code",
      "source": [
        "#A quick glance at our features\n",
        "df.info()"
      ],
      "metadata": {
        "colab": {
          "base_uri": "https://localhost:8080/"
        },
        "id": "3V4x2D_Tfwe2",
        "outputId": "6d723723-b6b4-4fcb-bb91-0d44eac23447"
      },
      "execution_count": 6,
      "outputs": [
        {
          "output_type": "stream",
          "name": "stdout",
          "text": [
            "<class 'pandas.core.frame.DataFrame'>\n",
            "RangeIndex: 16695 entries, 0 to 16694\n",
            "Data columns (total 14 columns):\n",
            " #   Column              Non-Null Count  Dtype  \n",
            "---  ------              --------------  -----  \n",
            " 0   Country             16393 non-null  object \n",
            " 1   City                16695 non-null  object \n",
            " 2   AQI Value           16695 non-null  int64  \n",
            " 3   AQI Category        16695 non-null  object \n",
            " 4   CO AQI Value        16695 non-null  int64  \n",
            " 5   CO AQI Category     16695 non-null  object \n",
            " 6   Ozone AQI Value     16695 non-null  int64  \n",
            " 7   Ozone AQI Category  16695 non-null  object \n",
            " 8   NO2 AQI Value       16695 non-null  int64  \n",
            " 9   NO2 AQI Category    16695 non-null  object \n",
            " 10  PM2.5 AQI Value     16695 non-null  int64  \n",
            " 11  PM2.5 AQI Category  16695 non-null  object \n",
            " 12  lat                 16695 non-null  float64\n",
            " 13  lng                 16695 non-null  float64\n",
            "dtypes: float64(2), int64(5), object(7)\n",
            "memory usage: 1.8+ MB\n"
          ]
        }
      ]
    },
    {
      "cell_type": "code",
      "source": [
        "#Viewing the spectrum of values\n",
        "df.describe()"
      ],
      "metadata": {
        "colab": {
          "base_uri": "https://localhost:8080/",
          "height": 300
        },
        "id": "Kic5T8IcglZg",
        "outputId": "5f34a30f-3726-4ae2-e849-0dbac80addd2"
      },
      "execution_count": 7,
      "outputs": [
        {
          "output_type": "execute_result",
          "data": {
            "text/plain": [
              "          AQI Value  CO AQI Value  Ozone AQI Value  NO2 AQI Value  \\\n",
              "count  16695.000000  16695.000000     16695.000000   16695.000000   \n",
              "mean      62.998682      1.342138        31.767355       3.819647   \n",
              "std       43.091971      2.371379        22.839343       5.880677   \n",
              "min        7.000000      0.000000         0.000000       0.000000   \n",
              "25%       38.500000      1.000000        20.000000       0.000000   \n",
              "50%       52.000000      1.000000        29.000000       2.000000   \n",
              "75%       69.000000      1.000000        38.000000       5.000000   \n",
              "max      500.000000    133.000000       222.000000      91.000000   \n",
              "\n",
              "       PM2.5 AQI Value           lat           lng  \n",
              "count     16695.000000  16695.000000  16695.000000  \n",
              "mean         59.821324     30.267148     -3.944485  \n",
              "std          43.208298     22.947398     73.037148  \n",
              "min           0.000000    -54.801900   -171.750000  \n",
              "25%          34.000000     16.515450    -75.180000  \n",
              "50%          52.000000     38.815800      5.643100  \n",
              "75%          69.000000     46.683300     36.275000  \n",
              "max         500.000000     70.767000    178.017800  "
            ],
            "text/html": [
              "\n",
              "  <div id=\"df-2b2b9b19-ceb5-40e0-8c4d-4e6227657547\">\n",
              "    <div class=\"colab-df-container\">\n",
              "      <div>\n",
              "<style scoped>\n",
              "    .dataframe tbody tr th:only-of-type {\n",
              "        vertical-align: middle;\n",
              "    }\n",
              "\n",
              "    .dataframe tbody tr th {\n",
              "        vertical-align: top;\n",
              "    }\n",
              "\n",
              "    .dataframe thead th {\n",
              "        text-align: right;\n",
              "    }\n",
              "</style>\n",
              "<table border=\"1\" class=\"dataframe\">\n",
              "  <thead>\n",
              "    <tr style=\"text-align: right;\">\n",
              "      <th></th>\n",
              "      <th>AQI Value</th>\n",
              "      <th>CO AQI Value</th>\n",
              "      <th>Ozone AQI Value</th>\n",
              "      <th>NO2 AQI Value</th>\n",
              "      <th>PM2.5 AQI Value</th>\n",
              "      <th>lat</th>\n",
              "      <th>lng</th>\n",
              "    </tr>\n",
              "  </thead>\n",
              "  <tbody>\n",
              "    <tr>\n",
              "      <th>count</th>\n",
              "      <td>16695.000000</td>\n",
              "      <td>16695.000000</td>\n",
              "      <td>16695.000000</td>\n",
              "      <td>16695.000000</td>\n",
              "      <td>16695.000000</td>\n",
              "      <td>16695.000000</td>\n",
              "      <td>16695.000000</td>\n",
              "    </tr>\n",
              "    <tr>\n",
              "      <th>mean</th>\n",
              "      <td>62.998682</td>\n",
              "      <td>1.342138</td>\n",
              "      <td>31.767355</td>\n",
              "      <td>3.819647</td>\n",
              "      <td>59.821324</td>\n",
              "      <td>30.267148</td>\n",
              "      <td>-3.944485</td>\n",
              "    </tr>\n",
              "    <tr>\n",
              "      <th>std</th>\n",
              "      <td>43.091971</td>\n",
              "      <td>2.371379</td>\n",
              "      <td>22.839343</td>\n",
              "      <td>5.880677</td>\n",
              "      <td>43.208298</td>\n",
              "      <td>22.947398</td>\n",
              "      <td>73.037148</td>\n",
              "    </tr>\n",
              "    <tr>\n",
              "      <th>min</th>\n",
              "      <td>7.000000</td>\n",
              "      <td>0.000000</td>\n",
              "      <td>0.000000</td>\n",
              "      <td>0.000000</td>\n",
              "      <td>0.000000</td>\n",
              "      <td>-54.801900</td>\n",
              "      <td>-171.750000</td>\n",
              "    </tr>\n",
              "    <tr>\n",
              "      <th>25%</th>\n",
              "      <td>38.500000</td>\n",
              "      <td>1.000000</td>\n",
              "      <td>20.000000</td>\n",
              "      <td>0.000000</td>\n",
              "      <td>34.000000</td>\n",
              "      <td>16.515450</td>\n",
              "      <td>-75.180000</td>\n",
              "    </tr>\n",
              "    <tr>\n",
              "      <th>50%</th>\n",
              "      <td>52.000000</td>\n",
              "      <td>1.000000</td>\n",
              "      <td>29.000000</td>\n",
              "      <td>2.000000</td>\n",
              "      <td>52.000000</td>\n",
              "      <td>38.815800</td>\n",
              "      <td>5.643100</td>\n",
              "    </tr>\n",
              "    <tr>\n",
              "      <th>75%</th>\n",
              "      <td>69.000000</td>\n",
              "      <td>1.000000</td>\n",
              "      <td>38.000000</td>\n",
              "      <td>5.000000</td>\n",
              "      <td>69.000000</td>\n",
              "      <td>46.683300</td>\n",
              "      <td>36.275000</td>\n",
              "    </tr>\n",
              "    <tr>\n",
              "      <th>max</th>\n",
              "      <td>500.000000</td>\n",
              "      <td>133.000000</td>\n",
              "      <td>222.000000</td>\n",
              "      <td>91.000000</td>\n",
              "      <td>500.000000</td>\n",
              "      <td>70.767000</td>\n",
              "      <td>178.017800</td>\n",
              "    </tr>\n",
              "  </tbody>\n",
              "</table>\n",
              "</div>\n",
              "      <button class=\"colab-df-convert\" onclick=\"convertToInteractive('df-2b2b9b19-ceb5-40e0-8c4d-4e6227657547')\"\n",
              "              title=\"Convert this dataframe to an interactive table.\"\n",
              "              style=\"display:none;\">\n",
              "        \n",
              "  <svg xmlns=\"http://www.w3.org/2000/svg\" height=\"24px\"viewBox=\"0 0 24 24\"\n",
              "       width=\"24px\">\n",
              "    <path d=\"M0 0h24v24H0V0z\" fill=\"none\"/>\n",
              "    <path d=\"M18.56 5.44l.94 2.06.94-2.06 2.06-.94-2.06-.94-.94-2.06-.94 2.06-2.06.94zm-11 1L8.5 8.5l.94-2.06 2.06-.94-2.06-.94L8.5 2.5l-.94 2.06-2.06.94zm10 10l.94 2.06.94-2.06 2.06-.94-2.06-.94-.94-2.06-.94 2.06-2.06.94z\"/><path d=\"M17.41 7.96l-1.37-1.37c-.4-.4-.92-.59-1.43-.59-.52 0-1.04.2-1.43.59L10.3 9.45l-7.72 7.72c-.78.78-.78 2.05 0 2.83L4 21.41c.39.39.9.59 1.41.59.51 0 1.02-.2 1.41-.59l7.78-7.78 2.81-2.81c.8-.78.8-2.07 0-2.86zM5.41 20L4 18.59l7.72-7.72 1.47 1.35L5.41 20z\"/>\n",
              "  </svg>\n",
              "      </button>\n",
              "      \n",
              "  <style>\n",
              "    .colab-df-container {\n",
              "      display:flex;\n",
              "      flex-wrap:wrap;\n",
              "      gap: 12px;\n",
              "    }\n",
              "\n",
              "    .colab-df-convert {\n",
              "      background-color: #E8F0FE;\n",
              "      border: none;\n",
              "      border-radius: 50%;\n",
              "      cursor: pointer;\n",
              "      display: none;\n",
              "      fill: #1967D2;\n",
              "      height: 32px;\n",
              "      padding: 0 0 0 0;\n",
              "      width: 32px;\n",
              "    }\n",
              "\n",
              "    .colab-df-convert:hover {\n",
              "      background-color: #E2EBFA;\n",
              "      box-shadow: 0px 1px 2px rgba(60, 64, 67, 0.3), 0px 1px 3px 1px rgba(60, 64, 67, 0.15);\n",
              "      fill: #174EA6;\n",
              "    }\n",
              "\n",
              "    [theme=dark] .colab-df-convert {\n",
              "      background-color: #3B4455;\n",
              "      fill: #D2E3FC;\n",
              "    }\n",
              "\n",
              "    [theme=dark] .colab-df-convert:hover {\n",
              "      background-color: #434B5C;\n",
              "      box-shadow: 0px 1px 3px 1px rgba(0, 0, 0, 0.15);\n",
              "      filter: drop-shadow(0px 1px 2px rgba(0, 0, 0, 0.3));\n",
              "      fill: #FFFFFF;\n",
              "    }\n",
              "  </style>\n",
              "\n",
              "      <script>\n",
              "        const buttonEl =\n",
              "          document.querySelector('#df-2b2b9b19-ceb5-40e0-8c4d-4e6227657547 button.colab-df-convert');\n",
              "        buttonEl.style.display =\n",
              "          google.colab.kernel.accessAllowed ? 'block' : 'none';\n",
              "\n",
              "        async function convertToInteractive(key) {\n",
              "          const element = document.querySelector('#df-2b2b9b19-ceb5-40e0-8c4d-4e6227657547');\n",
              "          const dataTable =\n",
              "            await google.colab.kernel.invokeFunction('convertToInteractive',\n",
              "                                                     [key], {});\n",
              "          if (!dataTable) return;\n",
              "\n",
              "          const docLinkHtml = 'Like what you see? Visit the ' +\n",
              "            '<a target=\"_blank\" href=https://colab.research.google.com/notebooks/data_table.ipynb>data table notebook</a>'\n",
              "            + ' to learn more about interactive tables.';\n",
              "          element.innerHTML = '';\n",
              "          dataTable['output_type'] = 'display_data';\n",
              "          await google.colab.output.renderOutput(dataTable, element);\n",
              "          const docLink = document.createElement('div');\n",
              "          docLink.innerHTML = docLinkHtml;\n",
              "          element.appendChild(docLink);\n",
              "        }\n",
              "      </script>\n",
              "    </div>\n",
              "  </div>\n",
              "  "
            ]
          },
          "metadata": {},
          "execution_count": 7
        }
      ]
    },
    {
      "cell_type": "markdown",
      "source": [
        "> Note: An AQI value of 0.0000 for ozone may occur if the ozone concentration in the air is extremely low or falls below the detection limit of the monitoring equipment. It does not necessarily mean that ozone is completely absent, but rather that it is present at a very low concentration that falls below the threshold for reporting."
      ],
      "metadata": {
        "id": "xZbfs7CPhvlQ"
      }
    },
    {
      "cell_type": "markdown",
      "source": [
        "# Clean the Data"
      ],
      "metadata": {
        "id": "qT-AfZBkILu9"
      }
    },
    {
      "cell_type": "code",
      "source": [
        "#Looking for duplicates to drop\n",
        "df.duplicated().sum()"
      ],
      "metadata": {
        "colab": {
          "base_uri": "https://localhost:8080/"
        },
        "id": "QhDjwv3BgSXs",
        "outputId": "8729ddcb-734d-4af1-c10c-95d98d7eb949"
      },
      "execution_count": 8,
      "outputs": [
        {
          "output_type": "execute_result",
          "data": {
            "text/plain": [
              "0"
            ]
          },
          "metadata": {},
          "execution_count": 8
        }
      ]
    },
    {
      "cell_type": "markdown",
      "source": [
        "No duplicate values to drop."
      ],
      "metadata": {
        "id": "RalASGNKt1nz"
      }
    },
    {
      "cell_type": "code",
      "source": [
        "#Looping thru the dataset's column values to find any inconsistencies\n",
        "#I'm including dropna=False to see any NaN values\n",
        "for col in df:\n",
        "    print(f\"{df[col].value_counts(dropna=False)} \\n\\n\")"
      ],
      "metadata": {
        "id": "lcMtKn7or3AV"
      },
      "execution_count": null,
      "outputs": []
    },
    {
      "cell_type": "code",
      "source": [
        "#Checking for missing values\n",
        "df.isna().sum()"
      ],
      "metadata": {
        "colab": {
          "base_uri": "https://localhost:8080/"
        },
        "id": "DuJ_Z-squVCy",
        "outputId": "238a8750-f4c2-454e-8213-8046d41d9bf5"
      },
      "execution_count": 10,
      "outputs": [
        {
          "output_type": "execute_result",
          "data": {
            "text/plain": [
              "Country               302\n",
              "City                    0\n",
              "AQI Value               0\n",
              "AQI Category            0\n",
              "CO AQI Value            0\n",
              "CO AQI Category         0\n",
              "Ozone AQI Value         0\n",
              "Ozone AQI Category      0\n",
              "NO2 AQI Value           0\n",
              "NO2 AQI Category        0\n",
              "PM2.5 AQI Value         0\n",
              "PM2.5 AQI Category      0\n",
              "lat                     0\n",
              "lng                     0\n",
              "dtype: int64"
            ]
          },
          "metadata": {},
          "execution_count": 10
        }
      ]
    },
    {
      "cell_type": "markdown",
      "source": [
        "The `Country` feature has 302 missing values.  I'm going to look at the most common value for this column. However, I may be able to deduce the Country for `lat` and `lng` features."
      ],
      "metadata": {
        "id": "qWdSONPcwPG5"
      }
    },
    {
      "cell_type": "code",
      "source": [
        "#Looking for the most common Country in our dataset\n",
        "df[\"Country\"].value_counts()"
      ],
      "metadata": {
        "colab": {
          "base_uri": "https://localhost:8080/"
        },
        "id": "Qyn8P4B3wYhU",
        "outputId": "d7948ed9-4d74-4ff1-b735-8a9d96d90ba5"
      },
      "execution_count": 11,
      "outputs": [
        {
          "output_type": "execute_result",
          "data": {
            "text/plain": [
              "United States of America    3954\n",
              "Germany                     1072\n",
              "Brazil                       890\n",
              "Russian Federation           889\n",
              "Italy                        866\n",
              "                            ... \n",
              "Luxembourg                     1\n",
              "Saint Lucia                    1\n",
              "Republic of Korea              1\n",
              "Solomon Islands                1\n",
              "Monaco                         1\n",
              "Name: Country, Length: 174, dtype: int64"
            ]
          },
          "metadata": {},
          "execution_count": 11
        }
      ]
    },
    {
      "cell_type": "markdown",
      "source": [
        "## Country"
      ],
      "metadata": {
        "id": "6AXRc7KKWRaE"
      }
    },
    {
      "cell_type": "code",
      "source": [
        "#Getting most occuring Countries to plot\n",
        "top_countries = df[\"Country\"].value_counts().head()\n",
        "print(top_countries)\n",
        "#Plotting Countries in Countplot\n",
        "fig, ax = plt.subplots()\n",
        "sns.countplot(df, x=top_countries.index)\n",
        "plt.xticks(rotation=45)\n",
        "ax.set_title(\"Top Sampled Countries\", fontweight=\"bold\");"
      ],
      "metadata": {
        "id": "9qMCgODBWVLL",
        "outputId": "bb01d62e-dda0-42cf-d64f-c5b6d6378ed5",
        "colab": {
          "base_uri": "https://localhost:8080/",
          "height": 678
        }
      },
      "execution_count": 82,
      "outputs": [
        {
          "output_type": "stream",
          "name": "stdout",
          "text": [
            "United States of America    3954\n",
            "Germany                     1072\n",
            "Brazil                       890\n",
            "Russian Federation           889\n",
            "Italy                        866\n",
            "Name: Country, dtype: int64\n"
          ]
        },
        {
          "output_type": "display_data",
          "data": {
            "text/plain": [
              "<Figure size 640x480 with 1 Axes>"
            ],
            "image/png": "[encoded data removed]"
          },
          "metadata": {}
        }
      ]
    },
    {
      "cell_type": "markdown",
      "source": [
        "## City"
      ],
      "metadata": {
        "id": "M0Xiob6Lbkhm"
      }
    },
    {
      "cell_type": "code",
      "source": [
        "#Getting most occuring Cities to plot\n",
        "top_cities = df[\"City\"].value_counts().head()\n",
        "print(top_cities)\n",
        "#Plotting Cities in Countplot\n",
        "fig, ax = plt.subplots()\n",
        "sns.countplot(df, x=top_cities.index)\n",
        "plt.xticks(rotation=45)\n",
        "ax.set_title(\"Top Sampled Cities\", fontweight=\"bold\");"
      ],
      "metadata": {
        "id": "sSEA5crrbl_7",
        "outputId": "a322343f-240c-4a38-b8f4-598aeba07615",
        "colab": {
          "base_uri": "https://localhost:8080/",
          "height": 622
        }
      },
      "execution_count": 88,
      "outputs": [
        {
          "output_type": "stream",
          "name": "stdout",
          "text": [
            "Santa Cruz      17\n",
            "San Fernando    16\n",
            "Santa Ana       15\n",
            "San Juan        14\n",
            "Springfield     12\n",
            "Name: City, dtype: int64\n"
          ]
        },
        {
          "output_type": "display_data",
          "data": {
            "text/plain": [
              "<Figure size 640x480 with 1 Axes>"
            ],
            "image/png": "[encoded data removed]"
          },
          "metadata": {}
        }
      ]
    },
    {
      "cell_type": "markdown",
      "source": [
        "## AQI Value"
      ],
      "metadata": {
        "id": "dLk6F8NAPHtL"
      }
    },
    {
      "cell_type": "code",
      "source": [
        "#Plotting AQI in Histogram\n",
        "fig, ax = plt.subplots()\n",
        "sns.histplot(df, x=\"AQI Value\")\n",
        "ax.set_title(\"Distribution of AQI Values\", fontweight=\"bold\");"
      ],
      "metadata": {
        "id": "qktbHVsVKn_O",
        "outputId": "ea78ed8f-44a5-4623-fa94-00b8c99089cc",
        "colab": {
          "base_uri": "https://localhost:8080/",
          "height": 472
        }
      },
      "execution_count": 27,
      "outputs": [
        {
          "output_type": "display_data",
          "data": {
            "text/plain": [
              "<Figure size 640x480 with 1 Axes>"
            ],
            "image/png": "[encoded data removed]"
          },
          "metadata": {}
        }
      ]
    },
    {
      "cell_type": "markdown",
      "source": [
        "## CO AQI Value"
      ],
      "metadata": {
        "id": "CVaW_VtoPQMK"
      }
    },
    {
      "cell_type": "code",
      "source": [
        "#Plotting CO values in Bar Chart\n",
        "fig, ax = plt.subplots()\n",
        "sns.barplot(df, y=\"CO AQI Value\")\n",
        "ax.set_title(\"Average CO Value\", fontweight=\"bold\");"
      ],
      "metadata": {
        "id": "3LQp5HSYPPq4",
        "outputId": "5a38ab55-aa68-43f3-f9ca-70f3e0d35244",
        "colab": {
          "base_uri": "https://localhost:8080/",
          "height": 437
        }
      },
      "execution_count": 28,
      "outputs": [
        {
          "output_type": "display_data",
          "data": {
            "text/plain": [
              "<Figure size 640x480 with 1 Axes>"
            ],
            "image/png": "[encoded data removed]"
          },
          "metadata": {}
        }
      ]
    },
    {
      "cell_type": "markdown",
      "source": [
        "## Ozone AQI Value"
      ],
      "metadata": {
        "id": "bi2vu4zuSglR"
      }
    },
    {
      "cell_type": "code",
      "source": [
        "#Ploting Ozone AQI Value in Boxplot\n",
        "fig, ax = plt.subplots()\n",
        "sns.boxplot(df, y=\"Ozone AQI Value\")\n",
        "ax.set_title(\"Median Ozone AQI\", fontweight=\"bold\");"
      ],
      "metadata": {
        "id": "dMqYAjosRVN1",
        "outputId": "f19487a9-8d21-4d2d-f7b8-ae99084671ba",
        "colab": {
          "base_uri": "https://localhost:8080/",
          "height": 433
        }
      },
      "execution_count": 32,
      "outputs": [
        {
          "output_type": "display_data",
          "data": {
            "text/plain": [
              "<Figure size 640x480 with 1 Axes>"
            ],
            "image/png": "[encoded data removed]"
          },
          "metadata": {}
        }
      ]
    },
    {
      "cell_type": "markdown",
      "source": [
        "## NO2 AQI Value"
      ],
      "metadata": {
        "id": "lE5GrWDjSjIC"
      }
    },
    {
      "cell_type": "code",
      "source": [
        "#Ploting NO2 AQI Value in Boxplot\n",
        "fig, ax = plt.subplots()\n",
        "sns.boxplot(df, x=\"NO2 AQI Value\")\n",
        "ax.set_title(\"Median NO2 AQI\", fontweight=\"bold\");"
      ],
      "metadata": {
        "id": "gm4v4XqpR3Nh",
        "outputId": "9f28afae-e166-4e93-a7cf-420aeb27496c",
        "colab": {
          "base_uri": "https://localhost:8080/",
          "height": 472
        }
      },
      "execution_count": 40,
      "outputs": [
        {
          "output_type": "display_data",
          "data": {
            "text/plain": [
              "<Figure size 640x480 with 1 Axes>"
            ],
            "image/png": "[encoded data removed]"
          },
          "metadata": {}
        }
      ]
    }
  ]
}